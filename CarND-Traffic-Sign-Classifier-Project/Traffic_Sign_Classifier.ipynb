{
 "cells": [
  {
   "cell_type": "markdown",
   "metadata": {},
   "source": [
    "# Self-Driving Car Engineer Nanodegree\n",
    "\n",
    "## Deep Learning\n",
    "\n",
    "## Project: Build a Traffic Sign Recognition Classifier\n",
    "\n",
    "In this notebook, a template is provided for you to implement your functionality in stages, which is required to successfully complete this project. If additional code is required that cannot be included in the notebook, be sure that the Python code is successfully imported and included in your submission if necessary. \n",
    "\n",
    "> **Note**: Once you have completed all of the code implementations, you need to finalize your work by exporting the iPython Notebook as an HTML document. Before exporting the notebook to html, all of the code cells need to have been run so that reviewers can see the final implementation and output. You can then export the notebook by using the menu above and navigating to  \\n\",\n",
    "    \"**File -> Download as -> HTML (.html)**. Include the finished document along with this notebook as your submission. \n",
    "\n",
    "In addition to implementing code, there is a writeup to complete. The writeup should be completed in a separate file, which can be either a markdown file or a pdf document. There is a [write up template](https://github.com/udacity/CarND-Traffic-Sign-Classifier-Project/blob/master/writeup_template.md) that can be used to guide the writing process. Completing the code template and writeup template will cover all of the [rubric points](https://review.udacity.com/#!/rubrics/481/view) for this project.\n",
    "\n",
    "The [rubric](https://review.udacity.com/#!/rubrics/481/view) contains \"Stand Out Suggestions\" for enhancing the project beyond the minimum requirements. The stand out suggestions are optional. If you decide to pursue the \"stand out suggestions\", you can include the code in this Ipython notebook and also discuss the results in the writeup file.\n",
    "\n",
    "\n",
    ">**Note:** Code and Markdown cells can be executed using the **Shift + Enter** keyboard shortcut. In addition, Markdown cells can be edited by typically double-clicking the cell to enter edit mode."
   ]
  },
  {
   "cell_type": "markdown",
   "metadata": {},
   "source": [
    "---\n",
    "## Step 0: Load The Data"
   ]
  },
  {
   "cell_type": "code",
   "execution_count": 21,
   "metadata": {
    "collapsed": false
   },
   "outputs": [],
   "source": [
    "# Load pickled data\n",
    "import pickle\n",
    "# TODO: Fill this in based on where you saved the training and testing data\n",
    "\n",
    "training_file = \"./train.p\"\n",
    "validation_file=\"./valid.p\"\n",
    "testing_file = \"./test.p\"\n",
    "\n",
    "with open(training_file, mode='rb') as f:\n",
    "    train = pickle.load(f)\n",
    "with open(validation_file, mode='rb') as f:\n",
    "    valid = pickle.load(f)\n",
    "with open(testing_file, mode='rb') as f:\n",
    "    test = pickle.load(f)\n",
    "    \n",
    "X_train, y_train = train['features'], train['labels']\n",
    "X_valid, y_valid = valid['features'], valid['labels']\n",
    "X_test, y_test = test['features'], test['labels']"
   ]
  },
  {
   "cell_type": "markdown",
   "metadata": {},
   "source": [
    "---\n",
    "\n",
    "## Step 1: Dataset Summary & Exploration\n",
    "\n",
    "The pickled data is a dictionary with 4 key/value pairs:\n",
    "\n",
    "- `'features'` is a 4D array containing raw pixel data of the traffic sign images, (num examples, width, height, channels).\n",
    "- `'labels'` is a 1D array containing the label/class id of the traffic sign. The file `signnames.csv` contains id -> name mappings for each id.\n",
    "- `'sizes'` is a list containing tuples, (width, height) representing the original width and height the image.\n",
    "- `'coords'` is a list containing tuples, (x1, y1, x2, y2) representing coordinates of a bounding box around the sign in the image. **THESE COORDINATES ASSUME THE ORIGINAL IMAGE. THE PICKLED DATA CONTAINS RESIZED VERSIONS (32 by 32) OF THESE IMAGES**\n",
    "\n",
    "Complete the basic data summary below. Use python, numpy and/or pandas methods to calculate the data summary rather than hard coding the results. For example, the [pandas shape method](http://pandas.pydata.org/pandas-docs/stable/generated/pandas.DataFrame.shape.html) might be useful for calculating some of the summary results. "
   ]
  },
  {
   "cell_type": "markdown",
   "metadata": {},
   "source": [
    "### Provide a Basic Summary of the Data Set Using Python, Numpy and/or Pandas"
   ]
  },
  {
   "cell_type": "code",
   "execution_count": 22,
   "metadata": {
    "collapsed": false
   },
   "outputs": [
    {
     "name": "stdout",
     "output_type": "stream",
     "text": [
      "Number of training examples = 34799\n",
      "Number of testing examples = 4410\n",
      "Image data shape = (32, 32, 3)\n",
      "Number of classes = 43\n"
     ]
    }
   ],
   "source": [
    "### Replace each question mark with the appropriate value. \n",
    "### Use python, pandas or numpy methods rather than hard coding the results\n",
    "\n",
    "# TODO: Number of training examples\n",
    "n_train = X_train.shape[0]\n",
    "\n",
    "# Number of validation examples\n",
    "n_valid = X_valid.shape[0]\n",
    "\n",
    "# TODO: Number of testing examples.\n",
    "n_test = X_valid.shape[0]\n",
    "\n",
    "# TODO: What's the shape of an traffic sign image?\n",
    "image_shape = X_train[0].shape\n",
    "\n",
    "# TODO: How many unique classes/labels there are in the dataset.\n",
    "n_classes = max(y_train) +1\n",
    "\n",
    "print(\"Number of training examples =\", n_train)\n",
    "print(\"Number of testing examples =\", n_test)\n",
    "print(\"Image data shape =\", image_shape)\n",
    "print(\"Number of classes =\", n_classes)"
   ]
  },
  {
   "cell_type": "markdown",
   "metadata": {},
   "source": [
    "### Include an exploratory visualization of the dataset"
   ]
  },
  {
   "cell_type": "markdown",
   "metadata": {},
   "source": [
    "Visualize the German Traffic Signs Dataset using the pickled file(s). This is open ended, suggestions include: plotting traffic sign images, plotting the count of each sign, etc.\n",
    "\n",
    "The [Matplotlib](http://matplotlib.org/) [examples](http://matplotlib.org/examples/index.html) and [gallery](http://matplotlib.org/gallery.html) pages are a great resource for doing visualizations in Python.\n",
    "\n",
    "**NOTE:** It's recommended you start with something simple first. If you wish to do more, come back to it after you've completed the rest of the sections."
   ]
  },
  {
   "cell_type": "code",
   "execution_count": 23,
   "metadata": {
    "collapsed": false
   },
   "outputs": [
    {
     "name": "stdout",
     "output_type": "stream",
     "text": [
      "\n",
      "Displaying some of the training images\n"
     ]
    },
    {
     "data": {
      "image/png": "[encoded data removed]",
      "text/plain": [
       "<matplotlib.figure.Figure at 0x7f7832978588>"
      ]
     },
     "metadata": {},
     "output_type": "display_data"
    },
    {
     "name": "stdout",
     "output_type": "stream",
     "text": [
      "\n",
      "\n"
     ]
    },
    {
     "data": {
      "image/png": "[encoded data removed]",
      "text/plain": [
       "<matplotlib.figure.Figure at 0x7f78329c4e80>"
      ]
     },
     "metadata": {},
     "output_type": "display_data"
    }
   ],
   "source": [
    "### Data exploration visualization code goes here.\n",
    "### Feel free to use as many code cells as needed.\n",
    "import matplotlib.pyplot as plt\n",
    "import numpy as np\n",
    "\n",
    "# Visualizations will be shown in the notebook.\n",
    "idx = np.random.randint(0,n_train,4)\n",
    "image = X_train[idx]\n",
    "\n",
    "print ()\n",
    "print('Displaying some of the training images')\n",
    "\n",
    "plt.subplot(221),plt.imshow(image[0]),plt.title('Image1')\n",
    "plt.subplot(222),plt.imshow(image[1]),plt.title('Image2')\n",
    "plt.subplot(223),plt.imshow(image[2]),plt.title('Image3')\n",
    "plt.subplot(224),plt.imshow(image[3]),plt.title('Image4')\n",
    "plt.show()\n",
    "\n",
    "print ()\n",
    "\n",
    "# Check how much data do we have for each category.\n",
    "print ()\n",
    "n_hist,bins,patches = plt.hist(y_train,n_classes)\n",
    "plt.xlabel(\"Number of classes\")\n",
    "plt.ylabel(\"Number of training examples\")\n",
    "plt.title(\"Histogram of training example set\")\n",
    "plt.show()\n",
    "\n",
    "%matplotlib inline"
   ]
  },
  {
   "cell_type": "markdown",
   "metadata": {},
   "source": [
    "----\n",
    "\n",
    "## Step 2: Design and Test a Model Architecture\n",
    "\n",
    "Design and implement a deep learning model that learns to recognize traffic signs. Train and test your model on the [German Traffic Sign Dataset](http://benchmark.ini.rub.de/?section=gtsrb&subsection=dataset).\n",
    "\n",
    "The LeNet-5 implementation shown in the [classroom](https://classroom.udacity.com/nanodegrees/nd013/parts/fbf77062-5703-404e-b60c-95b78b2f3f9e/modules/6df7ae49-c61c-4bb2-a23e-6527e69209ec/lessons/601ae704-1035-4287-8b11-e2c2716217ad/concepts/d4aca031-508f-4e0b-b493-e7b706120f81) at the end of the CNN lesson is a solid starting point. You'll have to change the number of classes and possibly the preprocessing, but aside from that it's plug and play! \n",
    "\n",
    "With the LeNet-5 solution from the lecture, you should expect a validation set accuracy of about 0.89. To meet specifications, the validation set accuracy will need to be at least 0.93. It is possible to get an even higher accuracy, but 0.93 is the minimum for a successful project submission. \n",
    "\n",
    "There are various aspects to consider when thinking about this problem:\n",
    "\n",
    "- Neural network architecture (is the network over or underfitting?)\n",
    "- Play around preprocessing techniques (normalization, rgb to grayscale, etc)\n",
    "- Number of examples per label (some have more than others).\n",
    "- Generate fake data.\n",
    "\n",
    "Here is an example of a [published baseline model on this problem](http://yann.lecun.com/exdb/publis/pdf/sermanet-ijcnn-11.pdf). It's not required to be familiar with the approach used in the paper but, it's good practice to try to read papers like these."
   ]
  },
  {
   "cell_type": "markdown",
   "metadata": {},
   "source": [
    "### Pre-process the Data Set (normalization, grayscale, etc.)"
   ]
  },
  {
   "cell_type": "markdown",
   "metadata": {},
   "source": [
    "Use the code cell (or multiple code cells, if necessary) to implement the first step of your project."
   ]
  },
  {
   "cell_type": "code",
   "execution_count": 24,
   "metadata": {
    "collapsed": true
   },
   "outputs": [],
   "source": [
    "### Preprocess the data here. Preprocessing steps could include normalization, converting to grayscale, etc.\n",
    "### Feel free to use as many code cells as needed.\n",
    "\n",
    "# Based on the histogram, Looks like first 19 classes are well represented, but the we dont have a lot of data for the classes 20 - 43\n",
    "# Lets augment the training data with some additional images. \n",
    "# At a minimum, let's say that each classs should have greater than 75% of max_sample_size.\n",
    "import cv2\n",
    "\n",
    "def distort_data(x_batch):\n",
    "\n",
    "    out_x = np.ndarray(x_batch.shape)\n",
    "    for i in range(len(x_batch)):\n",
    "        image = x_batch[i]\n",
    "\n",
    "#         # Randomly flip some images horizontally        \n",
    "#         if np.random.randint(0,100) > 50  :\n",
    "#             image = np.fliplr(image)\n",
    "\n",
    "#        # Randomly flip some images vertically        \n",
    "#        if np.random.randint(0,100) > 50  :\n",
    "#            image = np.flipud(image)\n",
    "\n",
    "        # Rotate images\n",
    "        angles = [-20,-15,-10,-5,0,5,10,15,20]\n",
    "        #Select a random angle to rotate the image by\n",
    "        rows,cols,ch = image.shape\n",
    "        temp_angle = angles[np.random.randint(0,len(angles))]\n",
    "        rotMatrix = cv2.getRotationMatrix2D((cols/2,rows/2),temp_angle,1)\n",
    "        new_image = cv2.warpAffine(image,rotMatrix,(cols,rows))\n",
    "#        plt.imshow(new_image)\n",
    "        # Affine transform\n",
    "        if np.random.randint(0,100) > 50  :\n",
    "            pts1 = np.float32([[5,25],[25,25],[25,5]])\n",
    "            pts2 = np.float32([[5,25],[25,25],[20,5]])\n",
    "            affineMatrix = cv2.getAffineTransform(pts1,pts2)\n",
    "            new_image = cv2.warpAffine(new_image,affineMatrix,(cols,rows))\n",
    "#        plt.imshow(new_image)\n",
    "\n",
    "        if np.random.randint(0,100) > 50  :\n",
    "            # Perpsective transform\n",
    "            pts1 = np.float32([[5,25],[25,25],[25,5],[5,5]])\n",
    "            pts2 = np.float32([[5,25],[20,25],[20,5],[5,5]])\n",
    "            perspMatrix = cv2.getPerspectiveTransform(pts1,pts2)\n",
    "            new_image = cv2.warpPerspective(new_image,perspMatrix,(cols,rows))\n",
    "    #        plt.imshow(new_image)\n",
    "\n",
    "#         plt.subplot(121),plt.imshow(image),plt.title('Input')\n",
    "#         plt.subplot(122),plt.imshow(new_image),plt.title('Output')\n",
    "#         plt.show()\n",
    "\n",
    "        # Add random noise to the filpped images\n",
    "#        noise = np.random.normal(scale=0.01,size=(32,32,1))\n",
    "#        noise = np.empty((32,32,3))\n",
    "#        noise_low = -2*np.ones((1,3))\n",
    "#        noise_high = 2*np.ones((1,3))\n",
    "#        \n",
    "#        noise = cv2.randu(noise,noise_low,noise_high)\n",
    "#        noisy_image = image+noise\n",
    "#        \n",
    "#        plt.imshow(noisy_image)\n",
    "        \n",
    "#        contrast_image = tf.image.random_contrast(flipped_image,lower=0.2,upper=1.8)\n",
    "        out_x[i] = new_image \n",
    "    return out_x\n",
    "\n"
   ]
  },
  {
   "cell_type": "markdown",
   "metadata": {},
   "source": [
    "# Start adding augmented data"
   ]
  },
  {
   "cell_type": "code",
   "execution_count": 25,
   "metadata": {
    "collapsed": false
   },
   "outputs": [
    {
     "data": {
      "image/png": "[encoded data removed]",
      "text/plain": [
       "<matplotlib.figure.Figure at 0x7f7832b53d30>"
      ]
     },
     "metadata": {},
     "output_type": "display_data"
    }
   ],
   "source": [
    "#%% Start adding the augmented data\n",
    "max_num_samples = max(n_hist)\n",
    "cutoff_0_1 = 0.75\n",
    "cutoff          = int(cutoff_0_1*max_num_samples)\n",
    "\n",
    "for current_class in range(n_classes):\n",
    "    # See if the samples in this class are less than cutoff_0_1 of max_num_samples\n",
    "    n_current_class = n_hist[current_class]\n",
    "    if (n_current_class < cutoff):\n",
    "        # Get all the training data for the current class\n",
    "        idx=(y_train==current_class)\n",
    "        current_class_images = X_train[idx].astype('uint8')\n",
    "        current_class_labels = y_train[idx] # All these will be same as class number\n",
    "        # See how many new images do we need to create\n",
    "        num_new_images = int(cutoff-n_current_class)\n",
    "        new_idx = np.random.randint(0,n_current_class,num_new_images)\n",
    "        images_to_distort = current_class_images[new_idx]\n",
    "        labels_placeholder = current_class * np.ones(num_new_images)\n",
    "        \n",
    "        temp_images = distort_data(images_to_distort)\n",
    "        X_train = np.append(X_train,temp_images,axis = 0).astype('uint8')\n",
    "        y_train = np.append(y_train,labels_placeholder,axis = 0)\n",
    "\n",
    "            \n",
    "# Plot the y_train data again to verify that we have good number of images.\n",
    "plt.hist(y_train,n_classes)\n",
    "plt.xlabel(\"Number of classes\")\n",
    "plt.ylabel(\"New Number of training examples\")\n",
    "plt.show()\n",
    "\n",
    "\n",
    "# Now shuffle the training data around, and change the value of n_train\n",
    "from sklearn.utils import shuffle\n",
    "X_train, y_train = shuffle(X_train,y_train)\n",
    "\n",
    "n_train = X_train.shape[0]\n",
    "\n"
   ]
  },
  {
   "cell_type": "code",
   "execution_count": 26,
   "metadata": {
    "collapsed": false
   },
   "outputs": [
    {
     "name": "stdout",
     "output_type": "stream",
     "text": [
      "Displaying one of the grayscaled images\n"
     ]
    },
    {
     "data": {
      "image/png": "[encoded data removed]",
      "text/plain": [
       "<matplotlib.figure.Figure at 0x7f7832b9fc50>"
      ]
     },
     "metadata": {},
     "output_type": "display_data"
    }
   ],
   "source": [
    "# Preprocessing data\n",
    "#import cv2\n",
    "\n",
    "# For training and validation data\n",
    "# Step 1: Convert  to grayscale\n",
    "# Step 2: Scale the values from 0-255 to 0.1 to 0.9\n",
    "def normalize(image):\n",
    "    new_image = (image/255) * 0.8 + 0.1\n",
    "    return new_image\n",
    "\n",
    "def grayscale(image):\n",
    "    gray_image = cv2.cvtColor(image,cv2.COLOR_RGB2GRAY)\n",
    "    new_image  = np.reshape(gray_image,(32,32,1)).astype('float32')\n",
    "    return new_image\n",
    "\n",
    "X_train_gray = np.ndarray((n_train,32,32,1),dtype='float32')\n",
    "for image_id in range(0,n_train):\n",
    "    image = X_train[image_id]\n",
    "    # Convert to grayscale\n",
    "    gray_image = grayscale(image)\n",
    "    new_image = normalize(gray_image)\n",
    "#     gray_image = cv2.cvtColor(image,cv2.COLOR_RGB2GRAY)\n",
    "#     new_image  = np.reshape(gray_image,(32,32,1)).astype('float32')\n",
    "#     new_image = new_image/255\n",
    "    X_train_gray[image_id] = new_image\n",
    "\n",
    "# Grayscale validation data\n",
    "X_valid_gray = np.ndarray((n_valid,32,32,1),dtype='float32')\n",
    "for image_id in range(0,n_valid):\n",
    "    image = X_valid[image_id]\n",
    "    # Convert to grayscale\n",
    "    gray_image = grayscale(image)\n",
    "    new_image = normalize(gray_image)\n",
    "#     gray_image = cv2.cvtColor(image,cv2.COLOR_RGB2GRAY)\n",
    "#     new_image  = np.reshape(gray_image,(32,32,1)).astype('float32')\n",
    "#     new_image = new_image/255\n",
    "    X_valid_gray[image_id] = new_image\n",
    "\n",
    "print('Displaying one of the grayscaled images')\n",
    "plt.imshow(np.reshape(X_train_gray[np.random.randint(0,n_train)],(32,32)),cmap='gray')\n",
    "plt.show()\n"
   ]
  },
  {
   "cell_type": "markdown",
   "metadata": {},
   "source": [
    "### Model Architecture"
   ]
  },
  {
   "cell_type": "code",
   "execution_count": 29,
   "metadata": {
    "collapsed": false
   },
   "outputs": [],
   "source": [
    "### Define your architecture here.\n",
    "### Feel free to use as many code cells as needed.\n",
    "import tensorflow as tf\n",
    "\n",
    "# Set up the hyper parameters\n",
    "# num_epochs = 20\n",
    "# batch_size = 128\n",
    "learning_rate=0.001\n",
    "\n",
    "\n",
    "tf.reset_default_graph()\n",
    "\n",
    "weights = {\\\n",
    "           'wc1': [3,3,1,32], # 32x32 to 30x30 to 15x15\n",
    "           'wc2': [3,3,32,64], # filter 5: 15x15 to 11x11 to 5x5; filter3: 15x15 to  13x13 to 6x6\n",
    "           'wfc1': [2304,512], # 5x5x64 = 1600 to 512; 6x6x64=2304 to 512\n",
    "           'wfc2': [512,128],\n",
    "           'out': [128,n_classes]\n",
    "           }\n",
    "\n",
    "biases = {\\\n",
    "          'bc1': [32],\n",
    "          'bc2': [64],\n",
    "          'bfc1':[512],\n",
    "          'bfc2': [128],\n",
    "          'out': [n_classes]\n",
    "          }           \n",
    "\n",
    "def conv_layer(input,weight_array, bias_array,mu=0,sigma=0.1,name=\"conv\"):\n",
    "    with tf.name_scope(name):\n",
    "\n",
    "        weight = tf.Variable(tf.truncated_normal(weight_array,mean=mu,stddev=sigma),name='W')         \n",
    "        bias   = tf.Variable(tf.zeros(bias_array),name='b')\n",
    "\n",
    "        wx = tf.nn.conv2d(input,weight,strides=[1,1,1,1],padding='VALID')\n",
    "        wx_b = tf.nn.bias_add(wx,bias)\n",
    "        act = tf.nn.relu(wx_b)\n",
    "\n",
    "        tf.summary.histogram('weights',weight)\n",
    "        tf.summary.histogram('biases',bias)\n",
    "        tf.summary.histogram('activations',act)\n",
    "\n",
    "        return act\n",
    "\n",
    "def fully_connected_layer(input,weight_array,bias_array,mu=0,sigma=0.1,name='fc'):\n",
    "    with tf.name_scope(name):\n",
    "        weight = tf.Variable(tf.truncated_normal(weight_array,mean=mu,stddev=sigma),name='W')         \n",
    "        bias   = tf.Variable(tf.zeros(bias_array),name='b')\n",
    "\n",
    "        wx_b = tf.matmul(input,weight + bias)\n",
    "        act = tf.nn.relu(wx_b)\n",
    "        tf.summary.histogram('weights',weight)\n",
    "        tf.summary.histogram('biases',bias)\n",
    "        tf.summary.histogram('activations',act)\n",
    "\n",
    "        return act    \n",
    "\n",
    "def dropout_layer(input,keep_prob,name='dp'):\n",
    "    with tf.name_scope(name):\n",
    "        out = tf.nn.dropout(input,keep_prob)\n",
    "        return out\n",
    "\n",
    "def last_layer(input,weight_array,bias_array,mu=0,sigma=0.1,name='out'):\n",
    "    with tf.name_scope(name):\n",
    "        weight = tf.Variable(tf.truncated_normal(weight_array,mean=mu,stddev=sigma),name='W')         \n",
    "        bias   = tf.Variable(tf.zeros(bias_array),name='b')\n",
    "\n",
    "        logits = tf.matmul(input,weight) + bias\n",
    "\n",
    "        tf.summary.histogram('weights',weight)\n",
    "        tf.summary.histogram('biases',bias)\n",
    "\n",
    "        return logits\n",
    "\n",
    "def myConvNet(x):\n",
    "\n",
    "    conv1 = conv_layer(x,weights['wc1'],biases['bc1'],name='conv1')\n",
    "    # Max pooling\n",
    "    pool1 = tf.nn.max_pool(conv1,ksize=[1,2,2,1],strides=[1,2,2,1],padding='VALID')\n",
    "\n",
    "    # Conv layer 2\n",
    "    conv2 = conv_layer(pool1,weights['wc2'],biases['bc2'],name='conv2')    \n",
    "    # Max pooling\n",
    "    pool2 = tf.nn.max_pool(conv2,ksize=[1,2,2,1],strides=[1,2,2,1],padding='VALID')\n",
    "\n",
    "    # Flatten the output    \n",
    "    flat = tf.contrib.layers.flatten(pool2)\n",
    "\n",
    "    # fully connected 1\n",
    "    fc1 = fully_connected_layer(flat,weights['wfc1'], biases['bfc1'],name='fc1')\n",
    "\n",
    "    #Dropout layer 1\n",
    "    dp1  = dropout_layer(fc1,keep_prob,name='dropout1')\n",
    "\n",
    "    # fully connected 2\n",
    "    fc2 = fully_connected_layer(dp1,weights['wfc2'],biases['bfc2'],name='fc2')\n",
    "\n",
    "    # Dropout layer 2\n",
    "    dp2 = dropout_layer(fc2, keep_prob,name='dropout2')\n",
    "\n",
    "    # Output\n",
    "    logits = last_layer(dp2,weights['out'],biases['out'],name = 'out')\n",
    "\n",
    "    return logits\n",
    "\n",
    "    \n",
    "#%% Placeholders for the inputs    \n",
    "x = tf.placeholder(tf.float32,(None,32,32,1),name='x_input')\n",
    "y = tf.placeholder(tf.int32,(None),name='labels')\n",
    "one_hot_y = tf.one_hot(y,n_classes)\n",
    "\n",
    "\n",
    "# Keep prob for dropout layer\n",
    "keep_prob = tf.placeholder(tf.float32)\n",
    "\n",
    "\n",
    "#%% Training pipeline\n",
    "with tf.name_scope('Model'):\n",
    "    logits = myConvNet(x)\n",
    "\n",
    "with tf.name_scope('xent'):\n",
    "    cross_entropy = tf.nn.softmax_cross_entropy_with_logits(logits=logits,labels=one_hot_y)\n",
    "    loss_operation = tf.reduce_mean(cross_entropy)\n",
    "\n",
    "\n",
    "with tf.name_scope('AdamOptimizer'):\n",
    "    optimizer = tf.train.AdamOptimizer(learning_rate=learning_rate)\n",
    "    training_operation = optimizer.minimize(loss_operation)\n",
    "\n",
    "\n",
    "#%% Model Evaluation\n",
    "with tf.name_scope('accuracy'):\n",
    "    correct_prediction = tf.equal(tf.arg_max(logits,1),tf.arg_max(one_hot_y,1))\n",
    "    accuracy_operation = tf.reduce_mean(tf.cast(correct_prediction,tf.float32))\n",
    "\n",
    "    \n",
    "# Add some summaries for Tensorboard\n",
    "tf.summary.scalar('cross_entropy',loss_operation)\n",
    "training_summary   = tf.summary.scalar('training_accuracy',accuracy_operation)\n",
    "validation_summary = tf.summary.scalar('validation_accuracy',accuracy_operation)\n",
    "tf.summary.image('input_images',X_train_gray,3)\n",
    "merged_summary = tf.summary.merge_all()\n",
    "\n"
   ]
  },
  {
   "cell_type": "markdown",
   "metadata": {},
   "source": [
    "### Train, Validate and Test the Model"
   ]
  },
  {
   "cell_type": "markdown",
   "metadata": {},
   "source": [
    "A validation set can be used to assess how well the model is performing. A low accuracy on the training and validation\n",
    "sets imply underfitting. A high accuracy on the training set but low accuracy on the validation set implies overfitting."
   ]
  },
  {
   "cell_type": "code",
   "execution_count": 8,
   "metadata": {
    "collapsed": false,
    "scrolled": false
   },
   "outputs": [
    {
     "name": "stdout",
     "output_type": "stream",
     "text": [
      "\n",
      "Starting the run for params: lr_1E-03_batch_100_epochs_20\n",
      "Training...\n",
      "\n",
      "Epoch: 1\n",
      "Training Accuracy:0.590 Validation Accuracy: 0.759\n",
      "Epoch: 2\n",
      "Training Accuracy:0.800 Validation Accuracy: 0.859\n",
      "Epoch: 3\n",
      "Training Accuracy:0.830 Validation Accuracy: 0.918\n",
      "Epoch: 4\n",
      "Training Accuracy:0.930 Validation Accuracy: 0.926\n",
      "Epoch: 5\n",
      "Training Accuracy:0.960 Validation Accuracy: 0.940\n",
      "Epoch: 6\n",
      "Training Accuracy:0.870 Validation Accuracy: 0.941\n",
      "Epoch: 7\n",
      "Training Accuracy:0.960 Validation Accuracy: 0.943\n",
      "Epoch: 8\n",
      "Training Accuracy:0.990 Validation Accuracy: 0.952\n",
      "Epoch: 9\n",
      "Training Accuracy:0.970 Validation Accuracy: 0.955\n",
      "Epoch: 10\n",
      "Training Accuracy:0.950 Validation Accuracy: 0.951\n",
      "Epoch: 11\n",
      "Training Accuracy:0.960 Validation Accuracy: 0.959\n",
      "Epoch: 12\n",
      "Training Accuracy:0.970 Validation Accuracy: 0.961\n",
      "Epoch: 13\n",
      "Training Accuracy:0.960 Validation Accuracy: 0.954\n",
      "Epoch: 14\n",
      "Training Accuracy:1.000 Validation Accuracy: 0.960\n",
      "Epoch: 15\n",
      "Training Accuracy:0.960 Validation Accuracy: 0.963\n",
      "Epoch: 16\n",
      "Training Accuracy:0.990 Validation Accuracy: 0.966\n",
      "Epoch: 17\n",
      "Training Accuracy:0.940 Validation Accuracy: 0.963\n",
      "Epoch: 18\n",
      "Training Accuracy:0.970 Validation Accuracy: 0.961\n",
      "Epoch: 19\n",
      "Training Accuracy:0.970 Validation Accuracy: 0.961\n",
      "Epoch: 20\n",
      "Training Accuracy:0.970 Validation Accuracy: 0.959\n",
      "./lr_1E-03_batch_100_epochs_20.ckpt\n",
      "Model: lr_1E-03_batch_100_epochs_20.ckpt saved\n",
      "Training complete\n"
     ]
    }
   ],
   "source": [
    "### Train your model here.\n",
    "### Calculate and report the accuracy on the training and validation set.\n",
    "### Once a final model architecture is selected, \n",
    "### the accuracy on the test set should be calculated and reported as well.\n",
    "### Feel free to use as many code cells as needed.\n",
    "\n",
    "# path for saving tensorboard data\n",
    "log_path = './tensorboard/'\n",
    "\n",
    "# File for saving model\n",
    "saver = tf.train.Saver()\n",
    "\n",
    "\n",
    "# Setup the parameter string for saving the data for tensorflow\n",
    "def make_hyperparam_string(learning_rate,batch_size,num_epochs):\n",
    "    name = \"lr_{:.0E}_batch_{}_epochs_{}\".format(learning_rate,batch_size,num_epochs)\n",
    "    return name\n",
    "\n",
    "# Not changing the number of epochs for the moment. \n",
    "num_epochs = 20\n",
    "\n",
    "for learning_rate in [1e-3]:\n",
    "    for batch_size in [100]:\n",
    "        param_string = make_hyperparam_string(learning_rate,batch_size,num_epochs)\n",
    "        print()\n",
    "        print (\"Starting the run for params: {}\".format(param_string))\n",
    "        \n",
    "        # Run the model with the param set\n",
    "#         my_deepnet(learning_rate,batch_size,num_epochs,param_string)\n",
    "        \n",
    "        with tf.Session() as sess:\n",
    "            sess.run(tf.global_variables_initializer())\n",
    "\n",
    "            filename = log_path + param_string\n",
    "\n",
    "            writer = tf.summary.FileWriter(filename,tf.get_default_graph())\n",
    "\n",
    "            print ('Training...')\n",
    "            print()\n",
    "            for epoch in range(num_epochs):\n",
    "                train_x,train_y = shuffle(X_train_gray,y_train)\n",
    "                total_batches = int(n_train/batch_size)\n",
    "\n",
    "                for i in range(total_batches):          \n",
    "                    offset = i*batch_size\n",
    "                    x_batch,y_batch = train_x[offset:offset+batch_size],train_y[offset:offset+batch_size]\n",
    "\n",
    "                    _ = sess.run([training_operation],\n",
    "                                 feed_dict={x:x_batch,y:y_batch,keep_prob:0.5})\n",
    "\n",
    "                #Calculate the training and validation accuracy at the end of each epoch                \n",
    "                training_acc,train_summ,out_summ = sess.run([accuracy_operation,training_summary,merged_summary],feed_dict={x:x_batch,y:y_batch,keep_prob:0.5})\n",
    "                writer.add_summary(out_summ,epoch+1)            \n",
    "\n",
    "                validation_acc,valid_summ = sess.run([accuracy_operation,validation_summary],\n",
    "                                                     feed_dict={x:X_valid_gray,y:y_valid,keep_prob:1})\n",
    "                writer.add_summary(valid_summ,epoch+1)\n",
    "\n",
    "                print(\"Epoch: {}\".format(epoch+1))\n",
    "                print('Training Accuracy:{:.3f}'.format(training_acc),\"Validation Accuracy: {:.3f}\".format(validation_acc))\n",
    "\n",
    "            save_file = './{}.ckpt'.format(param_string)\n",
    "            saver.save(sess, save_file)\n",
    "            print(save_file)\n",
    "            print(\"Model: {}.ckpt saved\".format(param_string))\n",
    "\n",
    "\n",
    "\n",
    "        \n",
    "    print (\"Training complete\")\n",
    "    #        \n"
   ]
  },
  {
   "cell_type": "markdown",
   "metadata": {},
   "source": [
    "Based on the above results, seems like we should use the learning rate of 0.001 and batch size of 100, given that epoch size has been fixed to 20. \n",
    "\n",
    "It seemed that if the number of epochs was increased, then the slower learning rate of 1E-4 might have given better results in with the validation test set."
   ]
  },
  {
   "cell_type": "code",
   "execution_count": 30,
   "metadata": {
    "collapsed": false
   },
   "outputs": [
    {
     "name": "stdout",
     "output_type": "stream",
     "text": [
      "Test Accuracy = 0.959\n"
     ]
    }
   ],
   "source": [
    "# Load the best model:\n",
    "saver = tf.train.Saver()\n",
    "save_file = './lr_1E-03_batch_100_epochs_20.ckpt'\n",
    "with tf.Session() as sess:\n",
    "    saver.restore(sess,save_file)\n",
    "    test_accuracy = sess.run(accuracy_operation,feed_dict={x:X_valid_gray,y:y_valid,keep_prob:1})\n",
    "print (\"Test Accuracy = {:.3f}\".format(test_accuracy))\n",
    "       "
   ]
  },
  {
   "cell_type": "markdown",
   "metadata": {},
   "source": [
    "---\n",
    "\n",
    "## Step 3: Test a Model on New Images\n",
    "\n",
    "To give yourself more insight into how your model is working, download at least five pictures of German traffic signs from the web and use your model to predict the traffic sign type.\n",
    "\n",
    "You may find `signnames.csv` useful as it contains mappings from the class id (integer) to the actual sign name."
   ]
  },
  {
   "cell_type": "markdown",
   "metadata": {},
   "source": [
    "### Load and Output the Images"
   ]
  },
  {
   "cell_type": "code",
   "execution_count": 31,
   "metadata": {
    "collapsed": false
   },
   "outputs": [
    {
     "data": {
      "image/png": "[encoded data removed]",
      "text/plain": [
       "<matplotlib.figure.Figure at 0x7f77fc686e80>"
      ]
     },
     "metadata": {},
     "output_type": "display_data"
    },
    {
     "name": "stdout",
     "output_type": "stream",
     "text": [
      "New Images data shape:  (6, 32, 32, 3)\n"
     ]
    }
   ],
   "source": [
    "### Load the images and plot them here.\n",
    "### Feel free to use as many code cells as needed.\n",
    "# Get the new images \n",
    "\n",
    "import os\n",
    "# import cv2\n",
    "# import matplotlib.pyplot as plt\n",
    "# import numpy as np\n",
    "\n",
    "additional_pics = os.listdir(\"./additional_images/additional_images\")\n",
    "# Resize these images to be 32x32\n",
    "dim = (32,32)\n",
    "internet_images=[]\n",
    "for im_name in additional_pics:\n",
    "    filename = './additional_images/additional_images/' + im_name\n",
    "    im = cv2.imread(filename)\n",
    "    resized_image = cv2.resize(im,dim,cv2.INTER_AREA)\n",
    "    resized_image = cv2.cvtColor(resized_image,cv2.COLOR_BGR2RGB)\n",
    "    internet_images.append(resized_image)\n",
    "\n",
    "# Display the images    \n",
    "for i in range(6):\n",
    "    plt.subplot(3,2,i+1), plt.imshow(internet_images[i]), plt.title(i+1)\n",
    "plt.show()\n",
    "\n",
    "# Convert to shape similar to the X_train data\n",
    "internet_image_array = np.array(internet_images)\n",
    "print(\"New Images data shape: \",image_array.shape)\n"
   ]
  },
  {
   "cell_type": "markdown",
   "metadata": {},
   "source": [
    "### Predict the Sign Type for Each Image"
   ]
  },
  {
   "cell_type": "code",
   "execution_count": 50,
   "metadata": {
    "collapsed": false
   },
   "outputs": [
    {
     "name": "stdout",
     "output_type": "stream",
     "text": [
      "Displaying one of the grayscaled images\n"
     ]
    },
    {
     "data": {
      "image/png": "[encoded data removed]",
      "text/plain": [
       "<matplotlib.figure.Figure at 0x7f7832d405f8>"
      ]
     },
     "metadata": {},
     "output_type": "display_data"
    }
   ],
   "source": [
    "### Run the predictions here and use the model to output the prediction for each image.\n",
    "### Make sure to pre-process the images with the same pre-processing pipeline used earlier.\n",
    "### Feel free to use as many code cells as needed.\n",
    "\n",
    "n_internet = 6\n",
    "\n",
    "internet_gray = np.ndarray((n_internet,32,32,1),dtype='float32')\n",
    "for image_id in range(0,n_internet):\n",
    "    image = internet_image_array[image_id]\n",
    "    # Convert to grayscale\n",
    "    gray_image = grayscale(image)\n",
    "    new_image = normalize(gray_image)\n",
    "#     gray_image = cv2.cvtColor(image,cv2.COLOR_RGB2GRAY)\n",
    "#     new_image  = np.reshape(gray_image,(32,32,1)).astype('float32')\n",
    "#     new_image = new_image/255\n",
    "    internet_gray[image_id] = new_image\n",
    "\n",
    "print('Displaying one of the grayscaled images')\n",
    "plt.imshow(np.reshape(internet_gray[np.random.randint(0,n_internet)],(32,32)),cmap='gray')\n",
    "plt.show()\n",
    "\n",
    "# Pass these images through the trained neural net. i.e get the logits.\n",
    "# Load the best model:\n",
    "# import tensorflow as tf\n",
    "\n",
    "# saver = tf.train.Saver()\n",
    "# save_file = './lr_1E-03_batch_100_epochs_20.ckpt'\n",
    "internet_y = np.array([19,3,27,20,36,40])\n",
    "\n",
    "with tf.Session() as sess:\n",
    "    saver.restore(sess,save_file)\n",
    "#     image_predictions = sess.run(logits,feed_dict={x:internet_gray,keep_prob:1})\n",
    "    image_predictions,internet_accuracy = sess.run([logits,accuracy_operation],feed_dict={x:internet_gray,y:internet_y,keep_prob:1})\n",
    "    #     print (output)\n",
    "# print(image_predictions)"
   ]
  },
  {
   "cell_type": "markdown",
   "metadata": {},
   "source": [
    "### Analyze Performance"
   ]
  },
  {
   "cell_type": "code",
   "execution_count": 51,
   "metadata": {
    "collapsed": false
   },
   "outputs": [
    {
     "name": "stdout",
     "output_type": "stream",
     "text": [
      "TopKV2(values=array([[  1.55334864e+01,   1.46024008e+01,   2.53338909e+00,\n",
      "          2.19292426e+00,   1.28182626e+00],\n",
      "       [  2.74319434e+00,   2.68011069e+00,   6.74973309e-01,\n",
      "          4.30808067e-02,  -9.52711344e-01],\n",
      "       [  1.49037600e+01,   1.32790241e+01,  -1.33917487e+00,\n",
      "         -1.87095964e+00,  -2.42042994e+00],\n",
      "       [  3.76546288e+01,   2.00732384e+01,   1.12071304e+01,\n",
      "          5.22217989e+00,   3.28147745e+00],\n",
      "       [  5.26239624e+01,   1.03446598e+01,   2.99103856e+00,\n",
      "          2.81992674e+00,  -1.33986306e+00],\n",
      "       [  1.14431801e+01,  -1.23067796e+00,  -1.50748301e+00,\n",
      "         -1.80298543e+00,  -1.98219669e+00]], dtype=float32), indices=array([[11, 21, 30,  7, 12],\n",
      "       [ 9, 23,  0, 36, 40],\n",
      "       [18, 26, 28,  4, 24],\n",
      "       [20, 41, 23,  9, 42],\n",
      "       [36, 35, 34,  9, 37],\n",
      "       [40, 33, 42, 37, 17]], dtype=int32))\n"
     ]
    }
   ],
   "source": [
    "### Calculate the accuracy for these 5 new images. \n",
    "# Create the label matrix\n",
    "# internet_y = np.array([19,3,27,20,36,40])\n",
    "#     internet_accuracy = sess.run(accuracy_operation,feed_dict={x:internet_gray,y:internet_y,keep_prob:1})\n",
    "### For example, if the model predicted 1 out of 5 signs correctly, it's 20% accurate on these new images.\n",
    "with tf.Session() as sess:\n",
    "    top2 = sess.run(tf.nn.top_k(tf.constant(image_predictions), k = 5))\n",
    "print(top2)"
   ]
  },
  {
   "cell_type": "markdown",
   "metadata": {},
   "source": [
    "### Output Top 5 Softmax Probabilities For Each Image Found on the Web"
   ]
  },
  {
   "cell_type": "markdown",
   "metadata": {},
   "source": [
    "For each of the new images, print out the model's softmax probabilities to show the **certainty** of the model's predictions (limit the output to the top 5 probabilities for each image). [`tf.nn.top_k`](https://www.tensorflow.org/versions/r0.12/api_docs/python/nn.html#top_k) could prove helpful here. \n",
    "\n",
    "The example below demonstrates how tf.nn.top_k can be used to find the top k predictions for each image.\n",
    "\n",
    "`tf.nn.top_k` will return the values and indices (class ids) of the top k predictions. So if k=3, for each sign, it'll return the 3 largest probabilities (out of a possible 43) and the correspoding class ids.\n",
    "\n",
    "Take this numpy array as an example. The values in the array represent predictions. The array contains softmax probabilities for five candidate images with six possible classes. `tk.nn.top_k` is used to choose the three classes with the highest probability:\n",
    "\n",
    "```\n",
    "# (5, 6) array\n",
    "a = np.array([[ 0.24879643,  0.07032244,  0.12641572,  0.34763842,  0.07893497,\n",
    "         0.12789202],\n",
    "       [ 0.28086119,  0.27569815,  0.08594638,  0.0178669 ,  0.18063401,\n",
    "         0.15899337],\n",
    "       [ 0.26076848,  0.23664738,  0.08020603,  0.07001922,  0.1134371 ,\n",
    "         0.23892179],\n",
    "       [ 0.11943333,  0.29198961,  0.02605103,  0.26234032,  0.1351348 ,\n",
    "         0.16505091],\n",
    "       [ 0.09561176,  0.34396535,  0.0643941 ,  0.16240774,  0.24206137,\n",
    "         0.09155967]])\n",
    "```\n",
    "\n",
    "Running it through `sess.run(tf.nn.top_k(tf.constant(a), k=3))` produces:\n",
    "\n",
    "```\n",
    "TopKV2(values=array([[ 0.34763842,  0.24879643,  0.12789202],\n",
    "       [ 0.28086119,  0.27569815,  0.18063401],\n",
    "       [ 0.26076848,  0.23892179,  0.23664738],\n",
    "       [ 0.29198961,  0.26234032,  0.16505091],\n",
    "       [ 0.34396535,  0.24206137,  0.16240774]]), indices=array([[3, 0, 5],\n",
    "       [0, 1, 4],\n",
    "       [0, 5, 1],\n",
    "       [1, 3, 5],\n",
    "       [1, 4, 3]], dtype=int32))\n",
    "```\n",
    "\n",
    "Looking just at the first row we get `[ 0.34763842,  0.24879643,  0.12789202]`, you can confirm these are the 3 largest probabilities in `a`. You'll also notice `[3, 0, 5]` are the corresponding indices."
   ]
  },
  {
   "cell_type": "code",
   "execution_count": null,
   "metadata": {
    "collapsed": true
   },
   "outputs": [],
   "source": [
    "### Print out the top five softmax probabilities for the predictions on the German traffic sign images found on the web. \n",
    "### Feel free to use as many code cells as needed."
   ]
  },
  {
   "cell_type": "markdown",
   "metadata": {},
   "source": [
    "---\n",
    "\n",
    "## Step 4: Visualize the Neural Network's State with Test Images\n",
    "\n",
    " This Section is not required to complete but acts as an additional excersise for understaning the output of a neural network's weights. While neural networks can be a great learning device they are often referred to as a black box. We can understand what the weights of a neural network look like better by plotting their feature maps. After successfully training your neural network you can see what it's feature maps look like by plotting the output of the network's weight layers in response to a test stimuli image. From these plotted feature maps, it's possible to see what characteristics of an image the network finds interesting. For a sign, maybe the inner network feature maps react with high activation to the sign's boundary outline or to the contrast in the sign's painted symbol.\n",
    "\n",
    " Provided for you below is the function code that allows you to get the visualization output of any tensorflow weight layer you want. The inputs to the function should be a stimuli image, one used during training or a new one you provided, and then the tensorflow variable name that represents the layer's state during the training process, for instance if you wanted to see what the [LeNet lab's](https://classroom.udacity.com/nanodegrees/nd013/parts/fbf77062-5703-404e-b60c-95b78b2f3f9e/modules/6df7ae49-c61c-4bb2-a23e-6527e69209ec/lessons/601ae704-1035-4287-8b11-e2c2716217ad/concepts/d4aca031-508f-4e0b-b493-e7b706120f81) feature maps looked like for it's second convolutional layer you could enter conv2 as the tf_activation variable.\n",
    "\n",
    "For an example of what feature map outputs look like, check out NVIDIA's results in their paper [End-to-End Deep Learning for Self-Driving Cars](https://devblogs.nvidia.com/parallelforall/deep-learning-self-driving-cars/) in the section Visualization of internal CNN State. NVIDIA was able to show that their network's inner weights had high activations to road boundary lines by comparing feature maps from an image with a clear path to one without. Try experimenting with a similar test to show that your trained network's weights are looking for interesting features, whether it's looking at differences in feature maps from images with or without a sign, or even what feature maps look like in a trained network vs a completely untrained one on the same sign image.\n",
    "\n",
    "<figure>\n",
    " <img src=\"visualize_cnn.png\" width=\"380\" alt=\"Combined Image\" />\n",
    " <figcaption>\n",
    " <p></p> \n",
    " <p style=\"text-align: center;\"> Your output should look something like this (above)</p> \n",
    " </figcaption>\n",
    "</figure>\n",
    " <p></p> \n"
   ]
  },
  {
   "cell_type": "code",
   "execution_count": null,
   "metadata": {
    "collapsed": true
   },
   "outputs": [],
   "source": [
    "### Visualize your network's feature maps here.\n",
    "### Feel free to use as many code cells as needed.\n",
    "\n",
    "# image_input: the test image being fed into the network to produce the feature maps\n",
    "# tf_activation: should be a tf variable name used during your training procedure that represents the calculated state of a specific weight layer\n",
    "# activation_min/max: can be used to view the activation contrast in more detail, by default matplot sets min and max to the actual min and max values of the output\n",
    "# plt_num: used to plot out multiple different weight feature map sets on the same block, just extend the plt number for each new feature map entry\n",
    "\n",
    "def outputFeatureMap(image_input, tf_activation, activation_min=-1, activation_max=-1 ,plt_num=1):\n",
    "    # Here make sure to preprocess your image_input in a way your network expects\n",
    "    # with size, normalization, ect if needed\n",
    "    # image_input =\n",
    "    # Note: x should be the same name as your network's tensorflow data placeholder variable\n",
    "    # If you get an error tf_activation is not defined it maybe having trouble accessing the variable from inside a function\n",
    "    activation = tf_activation.eval(session=sess,feed_dict={x : image_input})\n",
    "    featuremaps = activation.shape[3]\n",
    "    plt.figure(plt_num, figsize=(15,15))\n",
    "    for featuremap in range(featuremaps):\n",
    "        plt.subplot(6,8, featuremap+1) # sets the number of feature maps to show on each row and column\n",
    "        plt.title('FeatureMap ' + str(featuremap)) # displays the feature map number\n",
    "        if activation_min != -1 & activation_max != -1:\n",
    "            plt.imshow(activation[0,:,:, featuremap], interpolation=\"nearest\", vmin =activation_min, vmax=activation_max, cmap=\"gray\")\n",
    "        elif activation_max != -1:\n",
    "            plt.imshow(activation[0,:,:, featuremap], interpolation=\"nearest\", vmax=activation_max, cmap=\"gray\")\n",
    "        elif activation_min !=-1:\n",
    "            plt.imshow(activation[0,:,:, featuremap], interpolation=\"nearest\", vmin=activation_min, cmap=\"gray\")\n",
    "        else:\n",
    "            plt.imshow(activation[0,:,:, featuremap], interpolation=\"nearest\", cmap=\"gray\")"
   ]
  },
  {
   "cell_type": "markdown",
   "metadata": {},
   "source": [
    "### Question 9\n",
    "\n",
    "Discuss how you used the visual output of your trained network's feature maps to show that it had learned to look for interesting characteristics in traffic sign images\n"
   ]
  },
  {
   "cell_type": "markdown",
   "metadata": {},
   "source": [
    "**Answer:**"
   ]
  },
  {
   "cell_type": "markdown",
   "metadata": {},
   "source": [
    "> **Note**: Once you have completed all of the code implementations and successfully answered each question above, you may finalize your work by exporting the iPython Notebook as an HTML document. You can do this by using the menu above and navigating to  \\n\",\n",
    "    \"**File -> Download as -> HTML (.html)**. Include the finished document along with this notebook as your submission."
   ]
  },
  {
   "cell_type": "markdown",
   "metadata": {},
   "source": [
    "### Project Writeup\n",
    "\n",
    "Once you have completed the code implementation, document your results in a project writeup using this [template](https://github.com/udacity/CarND-Traffic-Sign-Classifier-Project/blob/master/writeup_template.md) as a guide. The writeup can be in a markdown or pdf file. "
   ]
  }
 ],
 "metadata": {
  "anaconda-cloud": {},
  "kernelspec": {
   "display_name": "Python 3",
   "language": "python",
   "name": "python3"
  },
  "language_info": {
   "codemirror_mode": {
    "name": "ipython",
    "version": 3
   },
   "file_extension": ".py",
   "mimetype": "text/x-python",
   "name": "python",
   "nbconvert_exporter": "python",
   "pygments_lexer": "ipython3",
   "version": "3.5.2"
  },
  "widgets": {
   "state": {},
   "version": "1.1.2"
  }
 },
 "nbformat": 4,
 "nbformat_minor": 1
}
